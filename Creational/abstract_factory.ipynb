{
 "cells": [
  {
   "cell_type": "markdown",
   "id": "a7877e15-5fc9-4d16-9b07-52c75563fdcc",
   "metadata": {},
   "source": [
    "## Creational (1) - Abstract Factory\n",
    "\n",
    "Reference: https://github.com/faif/python-patterns/blob/master/patterns/creational/abstract_factory.py\n",
    "\n",
    "추상팩토리란 가장 많이 쓰이는 생성패턴으로\n",
    "객체의 인터페이스를 먼저 제작하고\n",
    "하위 클래스들을 정의하여 사용하는 패턴\n",
    "\n",
    "예시에는 Pet이라는 상위 클래스를 추상화클래스로 정의한 뒤\n",
    "Dog, Cat 등의 하위 클래스를 정의\n",
    "\n",
    "따라서 미리 상위 인터페이스를 정의한 뒤\n",
    "이후 내용구현을 채울 때 쓰기 좋다."
   ]
  },
  {
   "cell_type": "code",
   "execution_count": 1,
   "id": "b8f82c88-0454-4ecd-b5c1-e1f94070cf48",
   "metadata": {},
   "outputs": [],
   "source": [
    "from typing import Type"
   ]
  },
  {
   "cell_type": "code",
   "execution_count": 6,
   "id": "ee64f362-ea6a-4d72-8b38-c7eb586677eb",
   "metadata": {},
   "outputs": [
    {
     "ename": "NotImplementedError",
     "evalue": "",
     "output_type": "error",
     "traceback": [
      "\u001b[0;31m---------------------------------------------------------------------------\u001b[0m",
      "\u001b[0;31mNotImplementedError\u001b[0m                       Traceback (most recent call last)",
      "Cell \u001b[0;32mIn[6], line 13\u001b[0m\n\u001b[1;32m      9\u001b[0m         \u001b[38;5;28;01mraise\u001b[39;00m \u001b[38;5;167;01mNotImplementedError\u001b[39;00m\n\u001b[1;32m     12\u001b[0m pet \u001b[38;5;241m=\u001b[39m Pet(\u001b[38;5;124m'\u001b[39m\u001b[38;5;124mMax\u001b[39m\u001b[38;5;124m'\u001b[39m)\n\u001b[0;32m---> 13\u001b[0m \u001b[43mpet\u001b[49m\u001b[38;5;241;43m.\u001b[39;49m\u001b[43mspeak\u001b[49m\u001b[43m(\u001b[49m\u001b[43m)\u001b[49m  \u001b[38;5;66;03m# NotImplementedError: 상위 클래스는 추상화 되어 이용할 수 없음.\u001b[39;00m\n",
      "Cell \u001b[0;32mIn[6], line 6\u001b[0m, in \u001b[0;36mPet.speak\u001b[0;34m(self)\u001b[0m\n\u001b[1;32m      5\u001b[0m \u001b[38;5;28;01mdef\u001b[39;00m \u001b[38;5;21mspeak\u001b[39m(\u001b[38;5;28mself\u001b[39m) \u001b[38;5;241m-\u001b[39m\u001b[38;5;241m>\u001b[39m \u001b[38;5;28;01mNone\u001b[39;00m:  \u001b[38;5;66;03m# interface\u001b[39;00m\n\u001b[0;32m----> 6\u001b[0m     \u001b[38;5;28;01mraise\u001b[39;00m \u001b[38;5;167;01mNotImplementedError\u001b[39;00m\n",
      "\u001b[0;31mNotImplementedError\u001b[0m: "
     ]
    }
   ],
   "source": [
    "# 상위 클래스\n",
    "class Pet:\n",
    "    def __init__(self, name: str) -> None:\n",
    "        self.name = name\n",
    "\n",
    "    def speak(self) -> None:  # interface\n",
    "        raise NotImplementedError\n",
    "\n",
    "    def __str__(self) -> str:  # interface\n",
    "        raise NotImplementedError\n",
    "\n",
    "\n",
    "pet = Pet('Max')\n",
    "pet.speak()  # NotImplementedError: 상위 클래스는 추상화 되어 이용할 수 없음."
   ]
  },
  {
   "cell_type": "code",
   "execution_count": 8,
   "id": "712e53cb-2e5f-4b6f-bcff-500ee66cacba",
   "metadata": {},
   "outputs": [
    {
     "name": "stdout",
     "output_type": "stream",
     "text": [
      "woof\n",
      "meow\n"
     ]
    }
   ],
   "source": [
    "# 하위 클래스 예시들\n",
    "class Dog(Pet):\n",
    "    def speak(self) -> None:\n",
    "        print(\"woof\")\n",
    "\n",
    "    def __str__(self) -> str:\n",
    "        return f\"Dog<{self.name}>\"\n",
    "\n",
    "\n",
    "class Cat(Pet):\n",
    "    def speak(self) -> None:\n",
    "        print(\"meow\")\n",
    "\n",
    "    def __str__(self) -> str:\n",
    "        return f\"Cat<{self.name}>\"\n",
    "\n",
    "\n",
    "dog = Dog('Jack')\n",
    "cat = Cat('Cookie')\n",
    "\n",
    "dog.speak()  # woof\n",
    "cat.speak()  # meow"
   ]
  },
  {
   "cell_type": "code",
   "execution_count": 17,
   "id": "3434e3d8-d156-4855-98e4-f05c3b7956b7",
   "metadata": {},
   "outputs": [
    {
     "name": "stdout",
     "output_type": "stream",
     "text": [
      "Here is your lovely Dog<Lucy>\n",
      "woof\n"
     ]
    }
   ],
   "source": [
    "# 추상팩토리 클래스를 input으로 이용하는 예시\n",
    "import random\n",
    "\n",
    "\n",
    "class PetShop:\n",
    "    def __init__(self, animal_factory: Type[Pet]) -> None:\n",
    "        self.pet_factory = animal_factory\n",
    "\n",
    "    def buy_pet(self, name: str) -> Pet:\n",
    "        pet = self.pet_factory(name)\n",
    "        print(f\"Here is your lovely {pet}\")\n",
    "        return pet\n",
    "\n",
    "\n",
    "shop = PetShop(random.choice([Dog, Cat]))  # 랜덤으로 Dog, Cat 중에 하나 고름\n",
    "new_pet = shop.buy_pet(\"Lucy\")  # Here is your lovely {Pet}<Lucy>\n",
    "\n",
    "new_pet.speak()  # woof | meow"
   ]
  },
  {
   "cell_type": "code",
   "execution_count": null,
   "id": "634a54a6-9887-4ed4-abd1-12155d5b0d40",
   "metadata": {},
   "outputs": [],
   "source": []
  }
 ],
 "metadata": {
  "kernelspec": {
   "display_name": "mimin",
   "language": "python",
   "name": "mimin"
  },
  "language_info": {
   "codemirror_mode": {
    "name": "ipython",
    "version": 3
   },
   "file_extension": ".py",
   "mimetype": "text/x-python",
   "name": "python",
   "nbconvert_exporter": "python",
   "pygments_lexer": "ipython3",
   "version": "3.9.16"
  }
 },
 "nbformat": 4,
 "nbformat_minor": 5
}
