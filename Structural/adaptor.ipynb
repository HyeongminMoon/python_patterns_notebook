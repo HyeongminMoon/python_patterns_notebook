{
 "cells": [
  {
   "cell_type": "markdown",
   "id": "8cc79373-b7c0-410a-918b-208e86874adb",
   "metadata": {},
   "source": [
    "## Structural (1) - Adaptor\n",
    "\n",
    "Reference: https://github.com/faif/python-patterns/blob/master/patterns/structural/adapter.py\n",
    "\n",
    "어댑터는 구조패턴 중 하나로\n",
    "클래스나 객체를 조합해 더 큰 구조를 만드는 패턴\n",
    "\n",
    "생성패턴 추상팩토리와는 반대로\n",
    "하위 클래스들을 이미 만들어 놓은 상태에서\n",
    "그에 맞추어 상위 클래스를 제작하는 형태\n",
    "\n",
    "구조 설계 없이 기능(클래스)들을 만든 뒤,\n",
    "후에 큰 수정없이 통합 상위 클래스를 만들 때 쓰기좋다."
   ]
  },
  {
   "cell_type": "code",
   "execution_count": 2,
   "id": "81e71681-7a23-4505-9bac-5bd38c4b5fbb",
   "metadata": {},
   "outputs": [],
   "source": [
    "from typing import Callable, TypeVar\n",
    "\n",
    "\n",
    "T = TypeVar(\"T\")"
   ]
  },
  {
   "cell_type": "code",
   "execution_count": 3,
   "id": "42fef6af-b4bf-47a5-b256-d0acbf0f2fb2",
   "metadata": {},
   "outputs": [],
   "source": [
    "# 난잡하게 만들어진 하위 클래스들\n",
    "class Dog:\n",
    "    def __init__(self) -> None:\n",
    "        self.name = \"Dog\"\n",
    "\n",
    "    def bark(self) -> str:\n",
    "        return \"woof!\"\n",
    "\n",
    "\n",
    "class Cat:\n",
    "    def __init__(self) -> None:\n",
    "        self.name = \"Cat\"\n",
    "\n",
    "    def meow(self) -> str:\n",
    "        return \"meow!\"\n",
    "\n",
    "\n",
    "class Human:\n",
    "    def __init__(self) -> None:\n",
    "        self.name = \"Human\"\n",
    "\n",
    "    def speak(self) -> str:\n",
    "        return \"'hello'\"\n",
    "\n",
    "\n",
    "class Car:\n",
    "    def __init__(self) -> None:\n",
    "        self.name = \"Car\"\n",
    "\n",
    "    def make_noise(self, octane_level: int) -> str:\n",
    "        return f\"vroom{'!' * octane_level}\""
   ]
  },
  {
   "cell_type": "code",
   "execution_count": 5,
   "id": "e48ea580-6374-4090-a859-d630610d79ce",
   "metadata": {},
   "outputs": [],
   "source": [
    "# 특정 함수를 만들어주는 어댑터\n",
    "class Adapter:\n",
    "    \"\"\"\n",
    "    Usage\n",
    "    ------\n",
    "    dog = Dog()\n",
    "    dog = Adapter(dog, make_noise=dog.bark)\n",
    "    \"\"\"\n",
    "\n",
    "    def __init__(self, obj: T, **adapted_methods: Callable):\n",
    "        self.obj = obj\n",
    "        self.__dict__.update(adapted_methods)\n",
    "\n",
    "    def __getattr__(self, attr):\n",
    "        return getattr(self.obj, attr)\n",
    "\n",
    "    def original_dict(self):\n",
    "        return self.obj.__dict__"
   ]
  },
  {
   "cell_type": "code",
   "execution_count": 16,
   "id": "6f14dec4-197f-4b52-96b1-ebb7fe7b3bf3",
   "metadata": {},
   "outputs": [
    {
     "name": "stdout",
     "output_type": "stream",
     "text": [
      "woof!\n",
      "meow!\n",
      "'hello'\n",
      "vroom!!!\n"
     ]
    }
   ],
   "source": [
    "# 어댑터 활용 예시 1\n",
    "# 모든 오브젝트에 make_noise(self)를 만들어 줌\n",
    "from functools import partial\n",
    "\n",
    "\n",
    "dog = Dog()\n",
    "dog = Adapter(dog, make_noise=dog.bark)\n",
    "\n",
    "cat = Cat()\n",
    "cat = Adapter(cat, make_noise=cat.meow)\n",
    "\n",
    "human = Human()\n",
    "human = Adapter(human, make_noise=human.speak)\n",
    "\n",
    "car = Car()\n",
    "# 이미 있는 함수를 수정, 업데이트하여 같은 포멧으로 맞춰줌\n",
    "# octane_level이라는 인수가 없어야하기 때문\n",
    "car = Adapter(car, make_noise=partial(car.make_noise, octane_level=3))\n",
    "\n",
    "\n",
    "# 이제 adapt된 object들은 동일한 함수에 들어갈 수 있음\n",
    "def noise(obj: T):\n",
    "    print(obj.make_noise())\n",
    "\n",
    "\n",
    "objects = [dog, cat, human, car]\n",
    "for obj in objects:\n",
    "    noise(obj)"
   ]
  }
 ],
 "metadata": {
  "kernelspec": {
   "display_name": "mimin",
   "language": "python",
   "name": "mimin"
  },
  "language_info": {
   "codemirror_mode": {
    "name": "ipython",
    "version": 3
   },
   "file_extension": ".py",
   "mimetype": "text/x-python",
   "name": "python",
   "nbconvert_exporter": "python",
   "pygments_lexer": "ipython3",
   "version": "3.9.16"
  }
 },
 "nbformat": 4,
 "nbformat_minor": 5
}
