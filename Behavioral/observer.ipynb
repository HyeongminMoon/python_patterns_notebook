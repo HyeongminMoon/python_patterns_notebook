{
 "cells": [
  {
   "cell_type": "markdown",
   "id": "a7877e15-5fc9-4d16-9b07-52c75563fdcc",
   "metadata": {},
   "source": [
    "## Behavioral (1) - Observer\n",
    "\n",
    "Reference: https://github.com/faif/python-patterns/blob/master/patterns/behavioral/observer.py\n",
    "\n",
    "옵저버 패턴은 객체의 상태변화를 관찰하는 옵저버들을\n",
    "객체에 직접 등록하고, 상태변화가 있을 때 마다\n",
    "객체가 등록된 옵저버에게 직접 통지하도록 하는 디자인 패턴\n",
    "\n",
    "발행/구독(Publisher-Subscriber) 모델이라고도 한다.\n",
    "\n",
    "주로 발행자가 구독자들에게 알림을 보내도록 하는 목적으로 사용된다.\n",
    "\n",
    "간단한 예시로, 유튜버를 구독하면 구독자들이 옵저버가 되어 유튜버에 등록된다.\n",
    "이후 유튜버가 새로운 영상을 업로드하면, 등록된 목록을 조회하여\n",
    "구독자들에게 알림을 보내게 된다."
   ]
  },
  {
   "cell_type": "code",
   "execution_count": 1,
   "id": "b8f82c88-0454-4ecd-b5c1-e1f94070cf48",
   "metadata": {},
   "outputs": [],
   "source": [
    "from __future__ import annotations\n",
    "from typing import Protocol\n",
    "from contextlib import suppress"
   ]
  },
  {
   "cell_type": "code",
   "execution_count": 2,
   "id": "ee64f362-ea6a-4d72-8b38-c7eb586677eb",
   "metadata": {},
   "outputs": [],
   "source": [
    "# 추상화 부모 객체 정의 (Abstract factory 패턴)\n",
    "\n",
    "# 옵저버 일반형태 정의\n",
    "class Observer(Protocol):\n",
    "    def update(self, subject: Subject):\n",
    "        pass\n",
    "\n",
    "\n",
    "# 객체 일반형태 정의\n",
    "class Subject:\n",
    "    def __init__(self):\n",
    "        self._observers: list[Observer] = []\n",
    "\n",
    "    def attach(self, observer: Observer):  # 옵저버 등록\n",
    "        if observer not in self._observers:\n",
    "            self._observers.append(observer)\n",
    "\n",
    "    def detach(self, observer: Observer):  # 옵저버 등록해제\n",
    "        with suppress(ValueError):\n",
    "            self._observers.remove(observer)\n",
    "\n",
    "    def notify(self, modifier: Observer | None = None):\n",
    "        for observer in self._observers:\n",
    "            if modifier != observer:\n",
    "                observer.update(self)"
   ]
  },
  {
   "cell_type": "code",
   "execution_count": 3,
   "id": "712e53cb-2e5f-4b6f-bcff-500ee66cacba",
   "metadata": {},
   "outputs": [],
   "source": [
    "# 객체 정의 (예시: 유튜버)\n",
    "class Youtuber(Subject):\n",
    "    def __init__(self, name: str = \"\"):\n",
    "        super().__init__()\n",
    "        self.name = name\n",
    "        self._last_post = \"\"\n",
    "\n",
    "    @property\n",
    "    def last_post(self) -> str:\n",
    "        return self._last_post\n",
    "\n",
    "    @last_post.setter\n",
    "    def last_post(self, value: str):\n",
    "        self._last_post = value\n",
    "        self.notify()\n",
    "\n",
    "\n",
    "# 옵저버 예시 두 가지\n",
    "\n",
    "\n",
    "# 알림 옵저버\n",
    "class Notifier:\n",
    "    def update(self, subject: Youtuber):\n",
    "        print(f\"{subject.name}님이 새로운 포스트를 업로드 했습니다.\")\n",
    "\n",
    "\n",
    "# 세부내용 알림 옵저버\n",
    "class Contents_Notifier:\n",
    "    def update(self, subject: Youtuber):\n",
    "        print(f\"{subject.name}의 포스트: {subject.last_post}\")"
   ]
  },
  {
   "cell_type": "code",
   "execution_count": 4,
   "id": "3434e3d8-d156-4855-98e4-f05c3b7956b7",
   "metadata": {},
   "outputs": [
    {
     "name": "stdout",
     "output_type": "stream",
     "text": [
      "GreatGamer님이 새로운 포스트를 업로드 했습니다.\n",
      "GreatGamer의 포스트: 쿠키런 신기록 달성!\n"
     ]
    }
   ],
   "source": [
    "# 사용 예시\n",
    "\n",
    "youtuber1 = Youtuber(\"GreatGamer\")\n",
    "\n",
    "# 구독자 발생 시 모든 알람이 observer로 등록 됨\n",
    "alarm1 = Notifier()\n",
    "alarm2 = Contents_Notifier()\n",
    "youtuber1.attach(alarm1)\n",
    "youtuber1.attach(alarm2)\n",
    "\n",
    "youtuber1.last_post = \"쿠키런 신기록 달성!\""
   ]
  },
  {
   "cell_type": "code",
   "execution_count": 5,
   "id": "634a54a6-9887-4ed4-abd1-12155d5b0d40",
   "metadata": {},
   "outputs": [
    {
     "name": "stdout",
     "output_type": "stream",
     "text": [
      "GreatGamer님이 새로운 포스트를 업로드 했습니다.\n"
     ]
    }
   ],
   "source": [
    "# 구독자가 내용 알람을 해제\n",
    "youtuber1.detach(alarm2)\n",
    "youtuber1.last_post = \"안산 브이로그\""
   ]
  },
  {
   "cell_type": "code",
   "execution_count": null,
   "id": "d4d8cf66-ee24-45c4-b5cc-72c62ff7ca4f",
   "metadata": {},
   "outputs": [],
   "source": []
  }
 ],
 "metadata": {
  "kernelspec": {
   "display_name": "mimin",
   "language": "python",
   "name": "mimin"
  },
  "language_info": {
   "codemirror_mode": {
    "name": "ipython",
    "version": 3
   },
   "file_extension": ".py",
   "mimetype": "text/x-python",
   "name": "python",
   "nbconvert_exporter": "python",
   "pygments_lexer": "ipython3",
   "version": "3.9.16"
  }
 },
 "nbformat": 4,
 "nbformat_minor": 5
}
